{
  "nbformat": 4,
  "nbformat_minor": 0,
  "metadata": {
    "colab": {
      "name": "Numpy.ipynb",
      "provenance": [],
      "include_colab_link": true
    },
    "kernelspec": {
      "name": "python3",
      "display_name": "Python 3"
    }
  },
  "cells": [
    {
      "cell_type": "markdown",
      "metadata": {
        "id": "view-in-github",
        "colab_type": "text"
      },
      "source": [
        "<a href=\"https://colab.research.google.com/github/happydinnertime/AI-learning/blob/master/Numpy.ipynb\" target=\"_parent\"><img src=\"https://colab.research.google.com/assets/colab-badge.svg\" alt=\"Open In Colab\"/></a>"
      ]
    },
    {
      "cell_type": "code",
      "metadata": {
        "id": "kCJujt10mq4K",
        "colab_type": "code",
        "colab": {
          "base_uri": "https://localhost:8080/",
          "height": 131
        },
        "outputId": "9c7dce3f-946b-4e47-de2a-6d6e5d417177"
      },
      "source": [
        "import pandas as pd\n",
        "print(“pandas version: %s” % pd.__version__)\n",
        "import matplotlib\n",
        "print(\"matplotlib version: %s\" % matplotlib.__version__)\n",
        "import numpy as np\n",
        "print(\"numpy version: %s\" % np.__version__)\n",
        "import sklearn\n",
        "print(\"scikit-learn version: %s\" % sklearn.__version__)"
      ],
      "execution_count": 1,
      "outputs": [
        {
          "output_type": "error",
          "ename": "SyntaxError",
          "evalue": "ignored",
          "traceback": [
            "\u001b[0;36m  File \u001b[0;32m\"<ipython-input-1-bb2d0f2bb924>\"\u001b[0;36m, line \u001b[0;32m2\u001b[0m\n\u001b[0;31m    print(“pandas version: %s” % pd.__version__)\u001b[0m\n\u001b[0m                ^\u001b[0m\n\u001b[0;31mSyntaxError\u001b[0m\u001b[0;31m:\u001b[0m invalid character in identifier\n"
          ]
        }
      ]
    },
    {
      "cell_type": "code",
      "metadata": {
        "id": "CkzXOFkImvmU",
        "colab_type": "code",
        "colab": {}
      },
      "source": [
        "import numpy as np"
      ],
      "execution_count": 0,
      "outputs": []
    },
    {
      "cell_type": "code",
      "metadata": {
        "id": "U5Pq0RMgpqO0",
        "colab_type": "code",
        "colab": {}
      },
      "source": [
        "np1 = np.array([1, 2, 3])\n",
        "np2 = np.array([3, 4, 5])"
      ],
      "execution_count": 0,
      "outputs": []
    },
    {
      "cell_type": "code",
      "metadata": {
        "id": "HAvmiBkBpwGR",
        "colab_type": "code",
        "colab": {}
      },
      "source": [
        "ar2=np.array([[0,3,5],[2,3,8]]) #幾個 '[]' 代表有幾個 維度 (dimention)"
      ],
      "execution_count": 0,
      "outputs": []
    },
    {
      "cell_type": "code",
      "metadata": {
        "id": "P5J5g8tZp9Mb",
        "colab_type": "code",
        "colab": {
          "base_uri": "https://localhost:8080/",
          "height": 51
        },
        "outputId": "36a81c59-6272-4a9a-b37e-7d18dbfd0d47"
      },
      "source": [
        "print(ar2)"
      ],
      "execution_count": 7,
      "outputs": [
        {
          "output_type": "stream",
          "text": [
            "[[0 3 5]\n",
            " [2 3 8]]\n"
          ],
          "name": "stdout"
        }
      ]
    },
    {
      "cell_type": "code",
      "metadata": {
        "id": "wBDWU5M_qSmD",
        "colab_type": "code",
        "colab": {
          "base_uri": "https://localhost:8080/",
          "height": 34
        },
        "outputId": "5adada87-6392-4059-8391-abc13d410965"
      },
      "source": [
        "ar2.shape"
      ],
      "execution_count": 8,
      "outputs": [
        {
          "output_type": "execute_result",
          "data": {
            "text/plain": [
              "(2, 3)"
            ]
          },
          "metadata": {
            "tags": []
          },
          "execution_count": 8
        }
      ]
    },
    {
      "cell_type": "code",
      "metadata": {
        "id": "-oahODgsq4pT",
        "colab_type": "code",
        "colab": {}
      },
      "source": [
        "ar=np.array([2,34,6,8])"
      ],
      "execution_count": 0,
      "outputs": []
    },
    {
      "cell_type": "code",
      "metadata": {
        "id": "7a794GsFtoqc",
        "colab_type": "code",
        "colab": {
          "base_uri": "https://localhost:8080/",
          "height": 34
        },
        "outputId": "3e959b75-c602-4da3-caa2-bd4bca73e703"
      },
      "source": [
        "ar.dtype"
      ],
      "execution_count": 11,
      "outputs": [
        {
          "output_type": "execute_result",
          "data": {
            "text/plain": [
              "dtype('int64')"
            ]
          },
          "metadata": {
            "tags": []
          },
          "execution_count": 11
        }
      ]
    },
    {
      "cell_type": "code",
      "metadata": {
        "id": "f33f-DjnupOq",
        "colab_type": "code",
        "colab": {}
      },
      "source": [
        "ar=np.array([2,-1,6,3], dtype= float )"
      ],
      "execution_count": 0,
      "outputs": []
    },
    {
      "cell_type": "code",
      "metadata": {
        "id": "aM9xC0fUu2YH",
        "colab_type": "code",
        "colab": {
          "base_uri": "https://localhost:8080/",
          "height": 34
        },
        "outputId": "8635fafa-79f1-4da5-f71b-bd19bf589ef8"
      },
      "source": [
        "ar.dtype"
      ],
      "execution_count": 17,
      "outputs": [
        {
          "output_type": "execute_result",
          "data": {
            "text/plain": [
              "dtype('float64')"
            ]
          },
          "metadata": {
            "tags": []
          },
          "execution_count": 17
        }
      ]
    },
    {
      "cell_type": "code",
      "metadata": {
        "id": "birxLMmAu9-Q",
        "colab_type": "code",
        "colab": {}
      },
      "source": [
        ""
      ],
      "execution_count": 0,
      "outputs": []
    },
    {
      "cell_type": "code",
      "metadata": {
        "id": "o6gJ9QGDtspE",
        "colab_type": "code",
        "colab": {}
      },
      "source": [
        "ar1=np.array([2,34,6,8.88])"
      ],
      "execution_count": 0,
      "outputs": []
    },
    {
      "cell_type": "code",
      "metadata": {
        "id": "TN-yugI5t4iL",
        "colab_type": "code",
        "colab": {}
      },
      "source": [
        "intar1=ar1.astype(int) #型態轉換"
      ],
      "execution_count": 0,
      "outputs": []
    },
    {
      "cell_type": "code",
      "metadata": {
        "id": "mR88dRTTuMaT",
        "colab_type": "code",
        "colab": {
          "base_uri": "https://localhost:8080/",
          "height": 34
        },
        "outputId": "4e6c2697-5f37-47e4-bb52-dc372abaf2b3"
      },
      "source": [
        "print(intar1)"
      ],
      "execution_count": 14,
      "outputs": [
        {
          "output_type": "stream",
          "text": [
            "[ 2 34  6  8]\n"
          ],
          "name": "stdout"
        }
      ]
    },
    {
      "cell_type": "code",
      "metadata": {
        "id": "w6CDKJNVuYcc",
        "colab_type": "code",
        "colab": {
          "base_uri": "https://localhost:8080/",
          "height": 51
        },
        "outputId": "47e5be88-507a-4e40-acc5-679338028cc1"
      },
      "source": [
        "np.zeros((2,3))"
      ],
      "execution_count": 18,
      "outputs": [
        {
          "output_type": "execute_result",
          "data": {
            "text/plain": [
              "array([[0., 0., 0.],\n",
              "       [0., 0., 0.]])"
            ]
          },
          "metadata": {
            "tags": []
          },
          "execution_count": 18
        }
      ]
    },
    {
      "cell_type": "code",
      "metadata": {
        "id": "SqCudUQnvnP7",
        "colab_type": "code",
        "colab": {
          "base_uri": "https://localhost:8080/",
          "height": 68
        },
        "outputId": "0dccceb3-d20a-4d09-c932-b9872c310151"
      },
      "source": [
        "np.array([range(i,i+3) for i in [2,4,6]])"
      ],
      "execution_count": 20,
      "outputs": [
        {
          "output_type": "execute_result",
          "data": {
            "text/plain": [
              "array([[2, 3, 4],\n",
              "       [4, 5, 6],\n",
              "       [6, 7, 8]])"
            ]
          },
          "metadata": {
            "tags": []
          },
          "execution_count": 20
        }
      ]
    },
    {
      "cell_type": "code",
      "metadata": {
        "id": "VWz5wd2ewT-N",
        "colab_type": "code",
        "colab": {
          "base_uri": "https://localhost:8080/",
          "height": 51
        },
        "outputId": "1debbabf-74b9-46c9-9c28-57b2a545e700"
      },
      "source": [
        "x=np.array([np.arange(1,6),np.arange(10,15)]); \n",
        "x"
      ],
      "execution_count": 21,
      "outputs": [
        {
          "output_type": "execute_result",
          "data": {
            "text/plain": [
              "array([[ 1,  2,  3,  4,  5],\n",
              "       [10, 11, 12, 13, 14]])"
            ]
          },
          "metadata": {
            "tags": []
          },
          "execution_count": 21
        }
      ]
    },
    {
      "cell_type": "code",
      "metadata": {
        "id": "H1HipdbwyUmP",
        "colab_type": "code",
        "colab": {
          "base_uri": "https://localhost:8080/",
          "height": 34
        },
        "outputId": "b8db8830-bd29-4f20-a9cb-9bd1b48da5e7"
      },
      "source": [
        "x.ravel()"
      ],
      "execution_count": 22,
      "outputs": [
        {
          "output_type": "execute_result",
          "data": {
            "text/plain": [
              "array([ 1,  2,  3,  4,  5, 10, 11, 12, 13, 14])"
            ]
          },
          "metadata": {
            "tags": []
          },
          "execution_count": 22
        }
      ]
    },
    {
      "cell_type": "code",
      "metadata": {
        "id": "nO36r8cGybJi",
        "colab_type": "code",
        "colab": {
          "base_uri": "https://localhost:8080/",
          "height": 102
        },
        "outputId": "c56a23da-4faa-4e52-ffd6-1247f6c99dd9"
      },
      "source": [
        "x.T"
      ],
      "execution_count": 23,
      "outputs": [
        {
          "output_type": "execute_result",
          "data": {
            "text/plain": [
              "array([[ 1, 10],\n",
              "       [ 2, 11],\n",
              "       [ 3, 12],\n",
              "       [ 4, 13],\n",
              "       [ 5, 14]])"
            ]
          },
          "metadata": {
            "tags": []
          },
          "execution_count": 23
        }
      ]
    },
    {
      "cell_type": "code",
      "metadata": {
        "id": "u9gVU3owydGh",
        "colab_type": "code",
        "colab": {
          "base_uri": "https://localhost:8080/",
          "height": 34
        },
        "outputId": "dc64d011-f405-469e-de81-5127a710089e"
      },
      "source": [
        "x.T.ravel()"
      ],
      "execution_count": 24,
      "outputs": [
        {
          "output_type": "execute_result",
          "data": {
            "text/plain": [
              "array([ 1, 10,  2, 11,  3, 12,  4, 13,  5, 14])"
            ]
          },
          "metadata": {
            "tags": []
          },
          "execution_count": 24
        }
      ]
    },
    {
      "cell_type": "code",
      "metadata": {
        "id": "Zi17MJ2hyhNc",
        "colab_type": "code",
        "colab": {
          "base_uri": "https://localhost:8080/",
          "height": 34
        },
        "outputId": "fe49f0d6-329b-4a3b-aeeb-273d351de5b5"
      },
      "source": [
        "y = np.arange(2,10)\n",
        "y"
      ],
      "execution_count": 25,
      "outputs": [
        {
          "output_type": "execute_result",
          "data": {
            "text/plain": [
              "array([2, 3, 4, 5, 6, 7, 8, 9])"
            ]
          },
          "metadata": {
            "tags": []
          },
          "execution_count": 25
        }
      ]
    },
    {
      "cell_type": "code",
      "metadata": {
        "id": "hgSsFRyHzW6C",
        "colab_type": "code",
        "colab": {
          "base_uri": "https://localhost:8080/",
          "height": 34
        },
        "outputId": "59fb7517-ade1-402c-c443-77ed7de9ccaa"
      },
      "source": [
        "y[-2]"
      ],
      "execution_count": 26,
      "outputs": [
        {
          "output_type": "execute_result",
          "data": {
            "text/plain": [
              "8"
            ]
          },
          "metadata": {
            "tags": []
          },
          "execution_count": 26
        }
      ]
    },
    {
      "cell_type": "code",
      "metadata": {
        "id": "qZREAGOczYsa",
        "colab_type": "code",
        "colab": {
          "base_uri": "https://localhost:8080/",
          "height": 68
        },
        "outputId": "97708b8e-f40d-4772-f313-d52a0c44db0b"
      },
      "source": [
        "ar = np.array([[2,3,4],[9,8,7],[11,12,13]])\n",
        "#ar\n",
        "#ar[1,2]\n",
        "#ar[2,:]\n",
        "#ar[:,1]\n",
        "#ar[2,-1] \n",
        "\n",
        "#前行後列，從 0 開始"
      ],
      "execution_count": 27,
      "outputs": [
        {
          "output_type": "execute_result",
          "data": {
            "text/plain": [
              "array([[ 2,  3,  4],\n",
              "       [ 9,  8,  7],\n",
              "       [11, 12, 13]])"
            ]
          },
          "metadata": {
            "tags": []
          },
          "execution_count": 27
        }
      ]
    },
    {
      "cell_type": "code",
      "metadata": {
        "id": "sFypp_ekzr2c",
        "colab_type": "code",
        "colab": {
          "base_uri": "https://localhost:8080/",
          "height": 34
        },
        "outputId": "b49cad06-15e9-49bf-9138-136954a69bac"
      },
      "source": [
        "ar = range(1000)      #Python for loop\n",
        "%timeit [ar[i]**3 for i in ar]"
      ],
      "execution_count": 28,
      "outputs": [
        {
          "output_type": "stream",
          "text": [
            "1000 loops, best of 3: 357 µs per loop\n"
          ],
          "name": "stdout"
        }
      ]
    },
    {
      "cell_type": "code",
      "metadata": {
        "id": "21tCEp8w1vlP",
        "colab_type": "code",
        "colab": {
          "base_uri": "https://localhost:8080/",
          "height": 51
        },
        "outputId": "ca762cc9-a926-41a5-da25-5e8c49711dee"
      },
      "source": [
        "ar = np.arange(1000)  #Vectorization 向量化計算\n",
        "%timeit ar**3    #100 times faster than the upper code(Pythin for loop) "
      ],
      "execution_count": 29,
      "outputs": [
        {
          "output_type": "stream",
          "text": [
            "The slowest run took 51.73 times longer than the fastest. This could mean that an intermediate result is being cached.\n",
            "100000 loops, best of 3: 3.49 µs per loop\n"
          ],
          "name": "stdout"
        }
      ]
    },
    {
      "cell_type": "code",
      "metadata": {
        "id": "buLWrILz13Pq",
        "colab_type": "code",
        "colab": {
          "base_uri": "https://localhost:8080/",
          "height": 131
        },
        "outputId": "ead6f2dc-e9aa-414a-8445-79b36117c7f0"
      },
      "source": [
        "%tensorflow_version 2.x"
      ],
      "execution_count": 30,
      "outputs": [
        {
          "output_type": "error",
          "ename": "SyntaxError",
          "evalue": "ignored",
          "traceback": [
            "\u001b[0;36m  File \u001b[0;32m\"<ipython-input-30-c146f5127530>\"\u001b[0;36m, line \u001b[0;32m1\u001b[0m\n\u001b[0;31m    1 %tensorflow_version 2.x\u001b[0m\n\u001b[0m                           ^\u001b[0m\n\u001b[0;31mSyntaxError\u001b[0m\u001b[0;31m:\u001b[0m invalid syntax\n"
          ]
        }
      ]
    },
    {
      "cell_type": "code",
      "metadata": {
        "id": "ncJHRCkB3cPm",
        "colab_type": "code",
        "colab": {}
      },
      "source": [
        "x = "
      ],
      "execution_count": 0,
      "outputs": []
    }
  ]
}